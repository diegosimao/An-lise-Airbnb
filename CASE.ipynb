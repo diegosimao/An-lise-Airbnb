{
  "nbformat": 4,
  "nbformat_minor": 0,
  "metadata": {
    "colab": {
      "name": "CASE ",
      "provenance": [],
      "toc_visible": true,
      "authorship_tag": "ABX9TyOcIGogXtL3GnJj56rQyka5",
      "include_colab_link": true
    },
    "kernelspec": {
      "name": "python3",
      "display_name": "Python 3"
    },
    "language_info": {
      "name": "python"
    },
    "accelerator": "GPU"
  },
  "cells": [
    {
      "cell_type": "markdown",
      "metadata": {
        "id": "view-in-github",
        "colab_type": "text"
      },
      "source": [
        "<a href=\"https://colab.research.google.com/github/diegosimao/An-lise-Airbnb/blob/main/CASE.ipynb\" target=\"_parent\"><img src=\"https://colab.research.google.com/assets/colab-badge.svg\" alt=\"Open In Colab\"/></a>"
      ]
    },
    {
      "cell_type": "code",
      "metadata": {
        "id": "RJBX5KiARvLu"
      },
      "source": [
        "import pandas as pd\n",
        "import sqlite3\n",
        "import numpy as np\n",
        "import matplotlib.pyplot as plt\n",
        "import missingno as msno \n",
        "from scipy import stats\n",
        "from sklearn.preprocessing import LabelEncoder\n",
        "from sklearn.ensemble import RandomForestClassifier\n",
        "import seaborn as sns\n",
        "from sklearn.feature_selection import SelectKBest\n",
        "from sklearn.feature_selection import f_classif, mutual_info_classif\n",
        "from datetime import datetime\n",
        "import xgboost as xgb\n",
        "\n",
        "from sklearn.model_selection import train_test_split\n",
        "import seaborn as sns\n",
        "\n",
        "#Lendo arquvio\n",
        "conn = sqlite3.connect('/content/case_ds_gdem.sqlite3')\n",
        "#Transformando sqlite em um dataframe\n",
        "df = pd.read_sql_query(\"SELECT * FROM vendas\", conn)\n"
      ],
      "execution_count": null,
      "outputs": []
    },
    {
      "cell_type": "code",
      "metadata": {
        "id": "hOiZU00ohkKu"
      },
      "source": [
        "\n",
        "display(df.dtypes)\n",
        "df.count"
      ],
      "execution_count": null,
      "outputs": []
    },
    {
      "cell_type": "code",
      "metadata": {
        "id": "WpGYEljCQqD_"
      },
      "source": [
        "df.head()"
      ],
      "execution_count": null,
      "outputs": []
    },
    {
      "cell_type": "code",
      "metadata": {
        "id": "QNu6RoZiRurL"
      },
      "source": [
        "#df.COD_CICLO = df.COD_CICLO.astype(str)\n",
        "df['COD_CICLO'] = pd.to_datetime(df['COD_CICLO'], format='%Y%m',exact=False)\n",
        "#df['COD_CICLO'] = pd.to_datetime(df['COD_CICLO'],format='%Y%m')\n",
        "df.head()"
      ],
      "execution_count": null,
      "outputs": []
    },
    {
      "cell_type": "code",
      "metadata": {
        "id": "momue4yPdAlE"
      },
      "source": [
        "#Estatística básica dos dados\n",
        "\n",
        "df[['VL_PRECO', 'QT_VENDA']].describe()\n",
        "\n"
      ],
      "execution_count": null,
      "outputs": []
    },
    {
      "cell_type": "code",
      "metadata": {
        "id": "U3pqN0ZXpNVq"
      },
      "source": [
        "df.COD_CICLO.min(),df.COD_CICLO.max()"
      ],
      "execution_count": null,
      "outputs": []
    },
    {
      "cell_type": "code",
      "metadata": {
        "id": "17qOlEMUpu7_"
      },
      "source": [
        "#df['COD_CICLO'] = pd.to_datetime(df['COD_CICLO']).dt.strftime('%d-%m-%Y')"
      ],
      "execution_count": null,
      "outputs": []
    },
    {
      "cell_type": "code",
      "metadata": {
        "id": "pJ89IHT_h7rT"
      },
      "source": [
        "plt.hist(df.QT_VENDA, bins=5, rwidth=0.8)\n",
        "plt.xlabel('Height (inches)')\n",
        "plt.ylabel('Count')\n",
        "plt.show()"
      ],
      "execution_count": null,
      "outputs": []
    },
    {
      "cell_type": "code",
      "metadata": {
        "id": "65zVF9K5jNLK"
      },
      "source": [
        "(df.isnull().sum() / df.shape[0]).sort_values(ascending=False)"
      ],
      "execution_count": null,
      "outputs": []
    },
    {
      "cell_type": "code",
      "metadata": {
        "id": "jEoGSjYljjyn"
      },
      "source": [
        "#Visualização gráfica da qualidade dos dados\n",
        "msno.bar (df, figsize = (8,3));"
      ],
      "execution_count": null,
      "outputs": []
    },
    {
      "cell_type": "code",
      "metadata": {
        "id": "UDXTMqlxj7Dw"
      },
      "source": [
        "df.hist(bins=15, figsize=(17,17));"
      ],
      "execution_count": null,
      "outputs": []
    },
    {
      "cell_type": "code",
      "metadata": {
        "id": "9-7fxh47SYU5"
      },
      "source": [
        "limite_inferior = df.QT_VENDA.mean() + 3*df.QT_VENDA.std()\n",
        "limite_inferior"
      ],
      "execution_count": null,
      "outputs": []
    },
    {
      "cell_type": "code",
      "metadata": {
        "id": "_ZeMdE4SJ_9L"
      },
      "source": [
        "limite_superior = df.QT_VENDA.mean() -3*df.QT_VENDA.std()\n",
        "limite_superior"
      ],
      "execution_count": null,
      "outputs": []
    },
    {
      "cell_type": "code",
      "metadata": {
        "id": "8vduPyKyNPCF"
      },
      "source": [
        "outlier = df[(df.QT_VENDA>limite_inferior) | (df.QT_VENDA<limite_superior)]\n"
      ],
      "execution_count": null,
      "outputs": []
    },
    {
      "cell_type": "code",
      "metadata": {
        "id": "pzaAag8au96C"
      },
      "source": [
        "outlier.count"
      ],
      "execution_count": null,
      "outputs": []
    },
    {
      "cell_type": "code",
      "metadata": {
        "id": "3BSbrr1j1PME"
      },
      "source": [
        "df_sem_outlier = df[(df.QT_VENDA<limite_inferior) & (df.QT_VENDA>limite_superior)]\n",
        "df_sem_outlier.head()"
      ],
      "execution_count": null,
      "outputs": []
    },
    {
      "cell_type": "code",
      "metadata": {
        "id": "yyua-jRP1ZpE"
      },
      "source": [
        "df_sem_outlier.shape"
      ],
      "execution_count": null,
      "outputs": []
    },
    {
      "cell_type": "code",
      "metadata": {
        "id": "Ee_-Qlty1cir"
      },
      "source": [
        "\n",
        "df.shape"
      ],
      "execution_count": null,
      "outputs": []
    },
    {
      "cell_type": "code",
      "metadata": {
        "id": "TaH68P8z1hf_"
      },
      "source": [
        "plt.hist(df_sem_outlier.QT_VENDA, bins=10, rwidth=0.8)\n",
        "plt.xlabel('Height (inches)')\n",
        "plt.ylabel('-')\n",
        "plt.show()"
      ],
      "execution_count": null,
      "outputs": []
    },
    {
      "cell_type": "code",
      "metadata": {
        "id": "hXM6ajp8mEPQ"
      },
      "source": [
        "label_encoder = LabelEncoder()\n",
        "labels_DES_CATEGORIA_MATERIAL = label_encoder.fit_transform(df_sem_outlier.DES_CATEGORIA_MATERIAL)  \n",
        "labels_DES_CATEGORIA_MATERIAL"
      ],
      "execution_count": null,
      "outputs": []
    },
    {
      "cell_type": "code",
      "metadata": {
        "id": "FeOdYN3LmeVs"
      },
      "source": [
        "label_encoder = LabelEncoder()\n",
        "labels_DES_MARCA_MATERIAL = label_encoder.fit_transform(df_sem_outlier.DES_MARCA_MATERIAL         )  \n",
        "labels_DES_MARCA_MATERIAL"
      ],
      "execution_count": null,
      "outputs": []
    },
    {
      "cell_type": "code",
      "metadata": {
        "id": "M96Gd8tjXyFa"
      },
      "source": [
        "df_sem_outlier['Marca_Material'] = labels_DES_MARCA_MATERIAL\n",
        "df_sem_outlier['Categoria_Material'] = labels_DES_CATEGORIA_MATERIAL\n",
        "del df_sem_outlier['DES_CATEGORIA_MATERIAL']\n",
        "del df_sem_outlier['DES_MARCA_MATERIAL']\n",
        "\n",
        "df_sem_outlier['PCT_DESCONTO'] = df['PCT_DESCONTO'].fillna(0)"
      ],
      "execution_count": null,
      "outputs": []
    },
    {
      "cell_type": "code",
      "metadata": {
        "id": "n7V3r96Zvrqu"
      },
      "source": [
        "df_sem_outlier = df_sem_outlier.sort_values(\"COD_CICLO\")"
      ],
      "execution_count": null,
      "outputs": []
    },
    {
      "cell_type": "code",
      "metadata": {
        "id": "mNWzrR3Iv3li"
      },
      "source": [
        "plt.figure(figsize=(10,10))\n",
        "plt.plot(df_sem_outlier['COD_CICLO'], df_sem_outlier['QT_VENDA'])\n"
      ],
      "execution_count": null,
      "outputs": []
    },
    {
      "cell_type": "code",
      "metadata": {
        "id": "kWJz1L3yxdpb"
      },
      "source": [
        "X = df_sem_outlier.drop(['QT_VENDA','COD_CICLO'], axis=1)\n",
        "y = df_sem_outlier['QT_VENDA']\n"
      ],
      "execution_count": null,
      "outputs": []
    },
    {
      "cell_type": "code",
      "metadata": {
        "id": "aRMxM-SnsndH"
      },
      "source": [
        "X.isnull().sum()"
      ],
      "execution_count": null,
      "outputs": []
    },
    {
      "cell_type": "code",
      "metadata": {
        "id": "7BqVtEEvsqcg"
      },
      "source": [
        "missing_col = ['VL_PRECO']\n",
        "for i in missing_col:\n",
        " X.loc[X.loc[:,i].isnull(),i]=X.loc[:,i].mean()\n"
      ],
      "execution_count": null,
      "outputs": []
    },
    {
      "cell_type": "code",
      "metadata": {
        "id": "L5rbiRzrbOy7"
      },
      "source": [
        "X_train, X_test, y_train, y_test = train_test_split(X, y, random_state=42)# Treinando modelo\n"
      ],
      "execution_count": null,
      "outputs": []
    },
    {
      "cell_type": "code",
      "metadata": {
        "id": "6eMRqACk_lf3"
      },
      "source": [
        "model = RandomForestClassifier(n_estimators=10,max_depth=6)\n",
        "model.fit(X_train, y_train)# Mostrando importância de cada feature\n",
        "model.feature_importances_\n"
      ],
      "execution_count": null,
      "outputs": []
    },
    {
      "cell_type": "code",
      "metadata": {
        "id": "zeiHCRbZBLpz"
      },
      "source": [
        "feature_importances = pd.DataFrame(model.feature_importances_,\n",
        "                                   index = X.columns,\n",
        "                                   columns=['importance']).sort_values('importance', ascending=False)\n",
        "feature_importances"
      ],
      "execution_count": null,
      "outputs": []
    },
    {
      "cell_type": "code",
      "metadata": {
        "id": "5NFcJm2PBPmh"
      },
      "source": [
        "# Visualizando as importâncias de forma gráfica:\n",
        "feature_importances.plot(kind='bar')"
      ],
      "execution_count": null,
      "outputs": []
    },
    {
      "cell_type": "code",
      "metadata": {
        "id": "WEhEvGXXwcFL"
      },
      "source": [
        "prophet_df = df_sem_outlier[['COD_CICLO', 'COD_MATERIAL','Marca_Material','VL_PRECO','FLG_CAMPANHA_MKT_B','FLG_CAMPANHA_MKT_D', \n",
        "'PCT_DESCONTO','Categoria_Material','FLG_DATA','QT_VENDA']]"
      ],
      "execution_count": null,
      "outputs": []
    },
    {
      "cell_type": "code",
      "metadata": {
        "id": "BX_cLBCJAgIJ"
      },
      "source": [
        "bst = xgb.XGBClassifier(max_depth=2)\n"
      ],
      "execution_count": null,
      "outputs": []
    },
    {
      "cell_type": "code",
      "metadata": {
        "id": "vm2JaEOGawOD"
      },
      "source": [
        "bst.fit(X_train, y_train)"
      ],
      "execution_count": null,
      "outputs": []
    },
    {
      "cell_type": "code",
      "metadata": {
        "id": "vJwP0De6a3vK"
      },
      "source": [
        "y_pred = bst.predict(X_test)\n",
        "acc = accuracy_score(y_test, y_pred.round())\n",
        "print(acc, '\\n')"
      ],
      "execution_count": null,
      "outputs": []
    }
  ]
}